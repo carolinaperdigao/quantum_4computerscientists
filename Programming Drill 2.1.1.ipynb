{
 "cells": [
  {
   "cell_type": "markdown",
   "id": "770c5e11",
   "metadata": {},
   "source": [
    "Write three functions that perform the addition, inverse and scalar multiplication operations for C^n, i.e., write a function that accepts the appropriate input for each operation and outputs the vector."
   ]
  },
  {
   "cell_type": "code",
   "execution_count": 35,
   "id": "970f1573",
   "metadata": {},
   "outputs": [
    {
     "name": "stdout",
     "output_type": "stream",
     "text": [
      "Input the vector size: 3\n"
     ]
    }
   ],
   "source": [
    "def vector_size_request():\n",
    "    vector_size = int(input(\"Input the vector size: \"))\n",
    "    return vector_size\n",
    "\n",
    "vector_size = vector_size_request()    "
   ]
  },
  {
   "cell_type": "code",
   "execution_count": 36,
   "id": "3ae94937",
   "metadata": {},
   "outputs": [
    {
     "name": "stdout",
     "output_type": "stream",
     "text": [
      "Input the 1 of 3 complex numbers for the 1d vector: 1+j\n",
      "Input the 2 of 3 complex numbers for the 1d vector: 1-j\n",
      "Input the 3 of 3 complex numbers for the 1d vector: 3+2j\n",
      "Great, 1th vector inputed succefully.\n",
      "Input the 1 of 3 complex numbers for the 2d vector: 1+j\n",
      "Input the 2 of 3 complex numbers for the 2d vector: 2+j\n",
      "Input the 3 of 3 complex numbers for the 2d vector: 1-j\n",
      "Great, 2d vector inputed succefully.\n"
     ]
    }
   ],
   "source": [
    "#first_vector_input\n",
    "def request_input_1d_vector(vector_size):\n",
    "    vector_size_include = vector_size+1\n",
    "    vector1 = []\n",
    "    for j in range (1, vector_size_include):\n",
    "        each_entry_vector1 = complex(input(f\"Input the {j} of {vector_size} complex numbers for the 1d vector: \"))\n",
    "        vector1.append(each_entry_vector1)\n",
    "    return vector1\n",
    "\n",
    "vector1 = request_input_1d_vector(vector_size)\n",
    "print(\"Great, 1th vector inputed succefully.\")\n",
    "\n",
    "\n",
    "#second_vector_input\n",
    "def request_input_2d_vector(vector_size):\n",
    "    vector_size_include = vector_size+1\n",
    "    vector2 = []\n",
    "    for j in range (1, vector_size_include):\n",
    "        each_entry_vector2 = complex(input(f\"Input the {j} of {vector_size} complex numbers for the 2d vector: \"))\n",
    "        vector2.append(each_entry_vector2)\n",
    "    return vector2\n",
    "\n",
    "vector2 = request_input_2d_vector(vector_size)\n",
    "print(\"Great, 2d vector inputed succefully.\")"
   ]
  },
  {
   "cell_type": "code",
   "execution_count": 37,
   "id": "3f3323ac",
   "metadata": {},
   "outputs": [
    {
     "name": "stdout",
     "output_type": "stream",
     "text": [
      "Sum of corresponding elements: [(2+2j), (3+0j), (4+1j)]\n"
     ]
    }
   ],
   "source": [
    "sum_vector = []\n",
    "for i in range(1, vector_size + 1):\n",
    "    sum_vector.append(vector1[i - 1] + vector2[i - 1])\n",
    "\n",
    "print(\"Sum of corresponding elements:\", sum_vector)"
   ]
  },
  {
   "cell_type": "code",
   "execution_count": 41,
   "id": "462ab3cd",
   "metadata": {},
   "outputs": [
    {
     "name": "stdout",
     "output_type": "stream",
     "text": [
      "Product of corresponding elements: [2j, (3-1j), (5-1j)]\n"
     ]
    }
   ],
   "source": [
    "def multiply_complex_vectors(vector1, vector2, vector_size):\n",
    "    multiply_vector = []\n",
    "    for i in range(vector_size):  # Itera de 0 a vector_size - 1\n",
    "        c1 = vector1[i]\n",
    "        c2 = vector2[i]\n",
    "        \n",
    "        # Multiplicação de números complexos\n",
    "        product = c1 * c2\n",
    "        multiply_vector.append(product)\n",
    "\n",
    "    return multiply_vector\n",
    "\n",
    "# Supondo que vector1 e vector2 já tenham sido definidos e tenham o mesmo tamanho\n",
    "# vector_size também deve ser definido\n",
    "multiply_result = multiply_complex_vectors(vector1, vector2, vector_size)\n",
    "print(\"Product of corresponding elements:\", multiply_result)"
   ]
  },
  {
   "cell_type": "code",
   "execution_count": 59,
   "id": "eda22ee4",
   "metadata": {},
   "outputs": [
    {
     "name": "stdout",
     "output_type": "stream",
     "text": [
      "The inverse of the Vector 1 is: [(-1-1j), (-1+1j), (-3-2j)]\n",
      "The inverse of the Vector 2 is: [(-1-1j), (-2-1j), (-1+1j)]\n"
     ]
    }
   ],
   "source": [
    "def inverse(vector1, vector_size):\n",
    "    inverse_vectors = []\n",
    "    for j in range(vector_size):\n",
    "        v1 = vector1[j]\n",
    "    \n",
    "        #inverter \n",
    "        v1_inverse = v1 * (-1)\n",
    "        inverse_vectors.append(v1_inverse)    \n",
    "    return inverse_vectors\n",
    "\n",
    "v1_inverse = inverse(vector1, vector_size)\n",
    "\n",
    "print(f\"The inverse of the Vector 1 is: {v1_inverse}\")\n",
    "\n",
    "\n",
    "def inverse2(vector2, vector_size):\n",
    "    inverse_vectors2 = []\n",
    "    for j in range(vector_size):\n",
    "        v2 = vector2[j]\n",
    "    \n",
    "        #inverter \n",
    "        v2_inverse = v2 * (-1)\n",
    "        inverse_vectors2.append(v2_inverse)    \n",
    "    return inverse_vectors2\n",
    "\n",
    "v2_inverse = inverse2(vector2, vector_size)\n",
    "\n",
    "print(f\"The inverse of the Vector 2 is: {v2_inverse}\")"
   ]
  }
 ],
 "metadata": {
  "kernelspec": {
   "display_name": "Python 3 (ipykernel)",
   "language": "python",
   "name": "python3"
  },
  "language_info": {
   "codemirror_mode": {
    "name": "ipython",
    "version": 3
   },
   "file_extension": ".py",
   "mimetype": "text/x-python",
   "name": "python",
   "nbconvert_exporter": "python",
   "pygments_lexer": "ipython3",
   "version": "3.9.13"
  }
 },
 "nbformat": 4,
 "nbformat_minor": 5
}
