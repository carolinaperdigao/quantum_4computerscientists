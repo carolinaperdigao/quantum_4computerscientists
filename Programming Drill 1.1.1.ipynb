{
 "cells": [
  {
   "cell_type": "raw",
   "id": "4265712f",
   "metadata": {},
   "source": [
    "Programming Drill 1.1.1: Write a program that accepts two complex numers and the output it's their sum and produc."
   ]
  },
  {
   "cell_type": "code",
   "execution_count": 62,
   "id": "7387c45e",
   "metadata": {},
   "outputs": [
    {
     "name": "stdout",
     "output_type": "stream",
     "text": [
      "Complex number input 1, the imaginary part must be represented by 'j': 1+2j\n",
      "Complex number input 2, the imaginary part must be represented by 'j': 3-j\n",
      "[(1+2j), (3-1j)]\n"
     ]
    }
   ],
   "source": [
    "def request_complex_numbers():\n",
    "    complex_numbers = []\n",
    "    for j in range(1, 3):\n",
    "        number = complex(input(f\"Complex number input {j}, the imaginary part must be represented by 'j': \"))\n",
    "        complex_numbers.append(number)\n",
    "    return complex_numbers\n",
    "\n",
    "complex_numbers = request_complex_numbers()\n",
    "\n",
    "print(complex_numbers)"
   ]
  },
  {
   "cell_type": "code",
   "execution_count": 63,
   "id": "62195f5e",
   "metadata": {},
   "outputs": [
    {
     "name": "stdout",
     "output_type": "stream",
     "text": [
      "Sum of the real parts: 4\n",
      "Sum of the imaginary parts: 1j\n"
     ]
    }
   ],
   "source": [
    "def sum_complex_numbers(complex_numbers):\n",
    "    total_real = sum(c.real for c in complex_numbers)\n",
    "    total_imaginary = sum(c.imag for c in complex_numbers)\n",
    "    return total_real, total_imaginary\n",
    "\n",
    "total_real, total_imaginary = sum_complex_numbers(complex_numbers)\n",
    "\n",
    "print(f\"Sum of the real parts: {total_real:.0f}\")\n",
    "print(f\"Sum of the imaginary parts: {total_imaginary:.0f}j\")"
   ]
  },
  {
   "cell_type": "code",
   "execution_count": 64,
   "id": "5a2d8fd5",
   "metadata": {},
   "outputs": [
    {
     "name": "stdout",
     "output_type": "stream",
     "text": [
      "Produto das partes dos Números Complexos: Real=5, Imaginário=5\n",
      "O produto final dos Números Complexos é: (5+5j)\n"
     ]
    }
   ],
   "source": [
    "def multiply_complex_numbers(c1, c2):\n",
    "    multiply_real_real = c1.real * c2.real\n",
    "    multiply_real_imag = c1.real * c2.imag \n",
    "    multiply_imag_real = c1.imag * c2.real\n",
    "    multiply_imag_imag = c1.imag * c2.imag\n",
    "    return multiply_real_real, multiply_real_imag, multiply_imag_real, multiply_imag_imag\n",
    "\n",
    "def result_real(multiply_imag_imag, multiply_real_real):\n",
    "    real = (multiply_imag_imag * (-1)) + multiply_real_real \n",
    "    return real\n",
    "\n",
    "def result_imag(multiply_real_imag, multiply_imag_real):\n",
    "    imag = multiply_real_imag + multiply_imag_real\n",
    "    return imag\n",
    "\n",
    "if len(complex_numbers) == 2:\n",
    "    # Acessando os números complexos individualmente\n",
    "    c1 = complex_numbers[0]\n",
    "    c2 = complex_numbers[1]\n",
    "\n",
    "    # Multiplicando as partes e calculando o resultado\n",
    "    multiply_real_real, multiply_real_imag, multiply_imag_real, multiply_imag_imag = multiply_complex_numbers(c1, c2)\n",
    "    real_part = result_real(multiply_imag_imag, multiply_real_real)\n",
    "    imag_part = result_imag(multiply_real_imag, multiply_imag_real)\n",
    "\n",
    "\n",
    "    print(f\"Produto das partes dos Números Complexos: Real={real_part:.0f}, Imaginário={imag_part:.0f}\")\n",
    "    print(f\"O produto final dos Números Complexos é: {complex(real_part, imag_part)}\")\n"
   ]
  },
  {
   "cell_type": "code",
   "execution_count": null,
   "id": "839fc57a",
   "metadata": {},
   "outputs": [],
   "source": []
  }
 ],
 "metadata": {
  "kernelspec": {
   "display_name": "Python 3 (ipykernel)",
   "language": "python",
   "name": "python3"
  },
  "language_info": {
   "codemirror_mode": {
    "name": "ipython",
    "version": 3
   },
   "file_extension": ".py",
   "mimetype": "text/x-python",
   "name": "python",
   "nbconvert_exporter": "python",
   "pygments_lexer": "ipython3",
   "version": "3.9.13"
  }
 },
 "nbformat": 4,
 "nbformat_minor": 5
}
